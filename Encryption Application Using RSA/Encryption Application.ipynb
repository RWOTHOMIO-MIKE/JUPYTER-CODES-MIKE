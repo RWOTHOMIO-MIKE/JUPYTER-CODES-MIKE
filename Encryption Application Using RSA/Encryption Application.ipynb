{
 "cells": [
  {
   "cell_type": "code",
   "execution_count": 4,
   "id": "988622d9",
   "metadata": {},
   "outputs": [
    {
     "data": {
      "application/vnd.jupyter.widget-view+json": {
       "model_id": "dec50a78bfa1472fafff40b942074e83",
       "version_major": 2,
       "version_minor": 0
      },
      "text/plain": [
       "HBox(children=(VBox(children=(Text(value='', description='Student Name:', style=DescriptionStyle(description_w…"
      ]
     },
     "metadata": {},
     "output_type": "display_data"
    }
   ],
   "source": [
    "import ipywidgets as widgets\n",
    "from IPython.display import display\n",
    "from cryptography.hazmat.primitives import serialization\n",
    "from cryptography.hazmat.primitives.asymmetric import rsa, padding\n",
    "from cryptography.hazmat.primitives import hashes\n",
    "\n",
    "# Create input widgets\n",
    "username_input = widgets.Text(description=\"Student Name:\")\n",
    "reg_number_input = widgets.Text(description=\"Reg Number:\")\n",
    "message_to_encrypt_input = widgets.Text(description=\"Value To Encrypt\")\n",
    "encrypted_message_input = widgets.Text(description=\"Encrypted Message\")\n",
    "\n",
    "# Add style\n",
    "username_input.style = {'description_width': 'initial'}\n",
    "message_to_encrypt_input.style = {'description_width': 'initial'}\n",
    "encrypted_message_input.style = {'description_width': 'initial'}\n",
    "\n",
    "# Create buttons\n",
    "submit_button = widgets.Button(description=\"Submit\")\n",
    "encrypt_button = widgets.Button(description=\"Encrypt Value\")\n",
    "decrypt_button = widgets.Button(description=\"Decrypt Value\")\n",
    "\n",
    "# Create an output widget to display the submitted data\n",
    "output = widgets.Output()\n",
    "\n",
    "# Function to handle the submit button click event\n",
    "def on_submit_button_click(b):\n",
    "    with output:\n",
    "        output.clear_output() \n",
    "        username = username_input.value\n",
    "        reg_number = reg_number_input.value\n",
    "        print(f\"Name: {username}\")\n",
    "        print(f\"Reg Number: {reg_number}\")\n",
    "\n",
    "submit_button.on_click(on_submit_button_click)\n",
    "\n",
    "private_key = rsa.generate_private_key(\n",
    "    public_exponent=65537,\n",
    "    key_size=2048,\n",
    ")\n",
    "\n",
    "def on_encrypt_button_click(b):\n",
    "    with output:\n",
    "        encrypted_message = private_key.public_key().encrypt(\n",
    "            message_to_encrypt_input.value.encode('utf-8'),\n",
    "            padding.OAEP(\n",
    "                mgf=padding.MGF1(algorithm=hashes.SHA256()),\n",
    "                algorithm=hashes.SHA256(),\n",
    "                label=None\n",
    "            )\n",
    "        )\n",
    "        encrypted_message_input.value = encrypted_message.hex()\n",
    "        print(\"Message encrypted successfully\")\n",
    "\n",
    "encrypt_button.on_click(on_encrypt_button_click)\n",
    "\n",
    "def on_decrypt_button_click(b):\n",
    "    with output:\n",
    "        encrypted_message = bytes.fromhex(encrypted_message_input.value)\n",
    "        decrypted_message = private_key.decrypt(\n",
    "            encrypted_message,\n",
    "            padding.OAEP(\n",
    "                mgf=padding.MGF1(algorithm=hashes.SHA256()),\n",
    "                algorithm=hashes.SHA256(),\n",
    "                label=None\n",
    "            )\n",
    "        )\n",
    "        print(f\"Value after Decryption: {decrypted_message.decode('utf-8')}\")\n",
    "\n",
    "decrypt_button.on_click(on_decrypt_button_click)\n",
    "\n",
    "# Arrange the input widgets vertically\n",
    "input_widgets = widgets.VBox([\n",
    "    username_input, reg_number_input, submit_button,\n",
    "    message_to_encrypt_input, encrypt_button,\n",
    "    encrypted_message_input, decrypt_button\n",
    "])\n",
    "\n",
    "# Arrange the input widgets and output widget in a horizontal box\n",
    "input_output_box = widgets.HBox([input_widgets, output])\n",
    "\n",
    "# Display the widgets\n",
    "display(input_output_box)\n"
   ]
  },
  {
   "cell_type": "code",
   "execution_count": null,
   "id": "972614d6",
   "metadata": {},
   "outputs": [],
   "source": []
  }
 ],
 "metadata": {
  "kernelspec": {
   "display_name": "Python 3 (ipykernel)",
   "language": "python",
   "name": "python3"
  },
  "language_info": {
   "codemirror_mode": {
    "name": "ipython",
    "version": 3
   },
   "file_extension": ".py",
   "mimetype": "text/x-python",
   "name": "python",
   "nbconvert_exporter": "python",
   "pygments_lexer": "ipython3",
   "version": "3.9.13"
  }
 },
 "nbformat": 4,
 "nbformat_minor": 5
}
